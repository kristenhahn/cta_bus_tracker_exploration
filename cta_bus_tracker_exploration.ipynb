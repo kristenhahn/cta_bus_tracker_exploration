{
 "cells": [
  {
   "cell_type": "code",
   "execution_count": 4,
   "metadata": {},
   "outputs": [],
   "source": [
    "import requests\n",
    "from dotenv import load_dotenv\n"
   ]
  },
  {
   "cell_type": "code",
   "execution_count": 6,
   "metadata": {},
   "outputs": [],
   "source": [
    "# GET API KEY FROM THE .env file\n",
    "load_dotenv()\n",
    "API_KEY = os.getenv('API_KEY')"
   ]
  },
  {
   "cell_type": "code",
   "execution_count": 8,
   "metadata": {},
   "outputs": [],
   "source": [
    "# gettime request\n",
    "\n",
    "api_url = f'http://www.ctabustracker.com/bustime/api/v2/gettime?key={API_KEY}'\n",
    "\n",
    "response = requests.get(api_url)\n",
    "\n"
   ]
  },
  {
   "cell_type": "code",
   "execution_count": 27,
   "metadata": {},
   "outputs": [
    {
     "data": {
      "text/plain": [
       "'text/xml;charset=utf-8'"
      ]
     },
     "execution_count": 27,
     "metadata": {},
     "output_type": "execute_result"
    }
   ],
   "source": [
    "response.headers[\"Content-Type\"]"
   ]
  },
  {
   "cell_type": "code",
   "execution_count": 30,
   "metadata": {},
   "outputs": [
    {
     "data": {
      "text/plain": [
       "'<?xml version=\"1.0\"?>\\r\\n<bustime-response><tm>20230107 23:52:40</tm></bustime-response>\\r\\n'"
      ]
     },
     "execution_count": 30,
     "metadata": {},
     "output_type": "execute_result"
    }
   ],
   "source": [
    "response.text"
   ]
  },
  {
   "cell_type": "code",
   "execution_count": 43,
   "metadata": {},
   "outputs": [],
   "source": [
    "# Must specify a route or list of routes via &rt=20,22 (to get routes 20 and 22)\n",
    "# Must specify &format=json, otherwise format will be html\n",
    "\n",
    "api_url = f'http://www.ctabustracker.com/bustime/api/v2/getvehicles?key={API_KEY}&rt=20,22&format=json'\n",
    "\n",
    "response = requests.get(api_url)"
   ]
  },
  {
   "cell_type": "code",
   "execution_count": 59,
   "metadata": {},
   "outputs": [
    {
     "data": {
      "text/plain": [
       "{'bustime-response': {'vehicle': [{'vid': '1983',\n",
       "    'tmstmp': '20230108 00:10',\n",
       "    'lat': '41.88320541381836',\n",
       "    'lon': '-87.62506866455078',\n",
       "    'hdg': '90',\n",
       "    'pid': 947,\n",
       "    'rt': '20',\n",
       "    'des': 'Austin',\n",
       "    'pdist': 584,\n",
       "    'dly': False,\n",
       "    'tatripid': '1040768',\n",
       "    'origtatripno': '235315159',\n",
       "    'tablockid': '20 -804',\n",
       "    'zone': ''},\n",
       "   {'vid': '1939',\n",
       "    'tmstmp': '20230108 00:10',\n",
       "    'lat': '41.880699157714844',\n",
       "    'lon': '-87.73260885045148',\n",
       "    'hdg': '269',\n",
       "    'pid': 954,\n",
       "    'rt': '20',\n",
       "    'des': 'Austin',\n",
       "    'pdist': 29571,\n",
       "    'dly': False,\n",
       "    'tatripid': '1040766',\n",
       "    'origtatripno': '235315013',\n",
       "    'tablockid': '20 -808',\n",
       "    'zone': ''},\n",
       "   {'vid': '8124',\n",
       "    'tmstmp': '20230108 00:10',\n",
       "    'lat': '41.88059166666667',\n",
       "    'lon': '-87.77417666666666',\n",
       "    'hdg': '93',\n",
       "    'pid': 954,\n",
       "    'rt': '20',\n",
       "    'des': 'Austin',\n",
       "    'pdist': 41245,\n",
       "    'dly': False,\n",
       "    'tatripid': '1040764',\n",
       "    'origtatripno': '238683394',\n",
       "    'tablockid': 'N20 -893',\n",
       "    'zone': ''},\n",
       "   {'vid': '8167',\n",
       "    'tmstmp': '20230108 00:10',\n",
       "    'lat': '41.88009666666667',\n",
       "    'lon': '-87.770265',\n",
       "    'hdg': '90',\n",
       "    'pid': 959,\n",
       "    'rt': '20',\n",
       "    'des': 'Washington/State',\n",
       "    'pdist': 1138,\n",
       "    'dly': False,\n",
       "    'tatripid': '1040628',\n",
       "    'origtatripno': '235317456',\n",
       "    'tablockid': 'N20 -893',\n",
       "    'zone': ''},\n",
       "   {'vid': '1823',\n",
       "    'tmstmp': '20230108 00:10',\n",
       "    'lat': '41.8820255279541',\n",
       "    'lon': '-87.62933349609375',\n",
       "    'hdg': '354',\n",
       "    'pid': 246,\n",
       "    'rt': '22',\n",
       "    'des': 'Howard',\n",
       "    'pdist': 4658,\n",
       "    'dly': False,\n",
       "    'tatripid': '204399',\n",
       "    'origtatripno': '235086821',\n",
       "    'tablockid': 'N22 -592',\n",
       "    'zone': ''},\n",
       "   {'vid': '1857',\n",
       "    'tmstmp': '20230108 00:10',\n",
       "    'lat': '41.92041944420856',\n",
       "    'lon': '-87.63758407813916',\n",
       "    'hdg': '334',\n",
       "    'pid': 3932,\n",
       "    'rt': '22',\n",
       "    'des': 'Howard',\n",
       "    'pdist': 19840,\n",
       "    'dly': False,\n",
       "    'tatripid': '204420',\n",
       "    'origtatripno': '235088804',\n",
       "    'tablockid': 'N22 -592',\n",
       "    'zone': ''},\n",
       "   {'vid': '1761',\n",
       "    'tmstmp': '20230108 00:10',\n",
       "    'lat': '41.964768727620445',\n",
       "    'lon': '-87.66662620775628',\n",
       "    'hdg': '351',\n",
       "    'pid': 3932,\n",
       "    'rt': '22',\n",
       "    'des': 'Howard',\n",
       "    'pdist': 38057,\n",
       "    'dly': False,\n",
       "    'tatripid': '204418',\n",
       "    'origtatripno': '235086762',\n",
       "    'tablockid': '22 -551',\n",
       "    'zone': ''},\n",
       "   {'vid': '1777',\n",
       "    'tmstmp': '20230108 00:10',\n",
       "    'lat': '42.008431790479975',\n",
       "    'lon': '-87.67370628243062',\n",
       "    'hdg': '354',\n",
       "    'pid': 3932,\n",
       "    'rt': '22',\n",
       "    'des': 'Howard',\n",
       "    'pdist': 54231,\n",
       "    'dly': False,\n",
       "    'tatripid': '204417',\n",
       "    'origtatripno': '235088801',\n",
       "    'tablockid': 'N22 -591',\n",
       "    'zone': ''},\n",
       "   {'vid': '4171',\n",
       "    'tmstmp': '20230108 00:10',\n",
       "    'lat': '42.01536885429831',\n",
       "    'lon': '-87.67509438009823',\n",
       "    'hdg': '356',\n",
       "    'pid': 3932,\n",
       "    'rt': '22',\n",
       "    'des': 'Howard',\n",
       "    'pdist': 56816,\n",
       "    'dly': False,\n",
       "    'tatripid': '204416',\n",
       "    'origtatripno': '235085644',\n",
       "    'tablockid': '22 -509',\n",
       "    'zone': ''},\n",
       "   {'vid': '4128',\n",
       "    'tmstmp': '20230108 00:10',\n",
       "    'lat': '41.98921638727188',\n",
       "    'lon': '-87.6700587272644',\n",
       "    'hdg': '176',\n",
       "    'pid': 3936,\n",
       "    'rt': '22',\n",
       "    'des': 'Harrison',\n",
       "    'pdist': 12175,\n",
       "    'dly': False,\n",
       "    'tatripid': '204417',\n",
       "    'origtatripno': '235086044',\n",
       "    'tablockid': '22 -515',\n",
       "    'zone': ''},\n",
       "   {'vid': '1785',\n",
       "    'tmstmp': '20230108 00:10',\n",
       "    'lat': '41.947425842285156',\n",
       "    'lon': '-87.6566162109375',\n",
       "    'hdg': '157',\n",
       "    'pid': 3936,\n",
       "    'rt': '22',\n",
       "    'des': 'Harrison',\n",
       "    'pdist': 28179,\n",
       "    'dly': False,\n",
       "    'tatripid': '204416',\n",
       "    'origtatripno': '235088762',\n",
       "    'tablockid': 'N22 -594',\n",
       "    'zone': ''},\n",
       "   {'vid': '4345',\n",
       "    'tmstmp': '20230108 00:10',\n",
       "    'lat': '41.90982427352514',\n",
       "    'lon': '-87.63163620386368',\n",
       "    'hdg': '181',\n",
       "    'pid': 3936,\n",
       "    'rt': '22',\n",
       "    'des': 'Harrison',\n",
       "    'pdist': 43930,\n",
       "    'dly': False,\n",
       "    'tatripid': '204415',\n",
       "    'origtatripno': '235086797',\n",
       "    'tablockid': 'N22 -593',\n",
       "    'zone': ''},\n",
       "   {'vid': '1789',\n",
       "    'tmstmp': '20230108 00:10',\n",
       "    'lat': '41.874495360810876',\n",
       "    'lon': '-87.63105773925781',\n",
       "    'hdg': '179',\n",
       "    'pid': 3936,\n",
       "    'rt': '22',\n",
       "    'des': 'Harrison',\n",
       "    'pdist': 58183,\n",
       "    'dly': False,\n",
       "    'tatripid': '204414',\n",
       "    'origtatripno': '235088774',\n",
       "    'tablockid': 'N22 -593',\n",
       "    'zone': ''}]}}"
      ]
     },
     "execution_count": 59,
     "metadata": {},
     "output_type": "execute_result"
    }
   ],
   "source": [
    "test_rt_20_and_22 = response.json()\n",
    "test_rt_20_and_22"
   ]
  },
  {
   "cell_type": "code",
   "execution_count": null,
   "metadata": {},
   "outputs": [],
   "source": []
  },
  {
   "cell_type": "code",
   "execution_count": null,
   "metadata": {},
   "outputs": [],
   "source": []
  }
 ],
 "metadata": {
  "kernelspec": {
   "display_name": "env",
   "language": "python",
   "name": "python3"
  },
  "language_info": {
   "codemirror_mode": {
    "name": "ipython",
    "version": 3
   },
   "file_extension": ".py",
   "mimetype": "text/x-python",
   "name": "python",
   "nbconvert_exporter": "python",
   "pygments_lexer": "ipython3",
   "version": "3.10.8"
  },
  "orig_nbformat": 4,
  "vscode": {
   "interpreter": {
    "hash": "ce9a3a77462d5f7f2cfe780191315841c3273e19058b5128a3b7d5f71a1e065e"
   }
  }
 },
 "nbformat": 4,
 "nbformat_minor": 2
}
