{
 "cells": [
  {
   "cell_type": "code",
   "execution_count": 3,
   "metadata": {},
   "outputs": [],
   "source": [
    "import requests\n",
    "from dotenv import load_dotenv\n"
   ]
  },
  {
   "cell_type": "code",
   "execution_count": 4,
   "metadata": {},
   "outputs": [],
   "source": [
    "# GET API KEY FROM THE .env file\n",
    "load_dotenv()\n",
    "API_KEY = os.getenv('API_KEY')"
   ]
  },
  {
   "cell_type": "markdown",
   "metadata": {},
   "source": [
    "### gettime request - checks for local clock synced with CTA"
   ]
  },
  {
   "cell_type": "code",
   "execution_count": 5,
   "metadata": {},
   "outputs": [],
   "source": [
    "api_url = f'http://www.ctabustracker.com/bustime/api/v2/gettime?key={API_KEY}'\n",
    "\n",
    "response = requests.get(api_url)\n",
    "response.headers[\"Content-Type\"]\n",
    "response.text"
   ]
  },
  {
   "cell_type": "markdown",
   "metadata": {},
   "source": [
    "### getvehicles request by route(s) or vehicle(s)"
   ]
  },
  {
   "cell_type": "code",
   "execution_count": 8,
   "metadata": {},
   "outputs": [],
   "source": [
    "# Must specify a route or list of routes via &rt=20,22 (to get routes 20 and 22)\n",
    "# Alternatively, you could specify a vehicle or list of vehicles instead\n",
    "# Must specify &format=json, otherwise format will be html\n",
    "\n",
    "api_url = f'http://www.ctabustracker.com/bustime/api/v2/getvehicles?key={API_KEY}&rt=20,22&format=json'\n",
    "\n",
    "response = requests.get(api_url)\n",
    "test_vehicles_20_and_22 = response.json()\n",
    "test_vehicles_20_and_22"
   ]
  },
  {
   "cell_type": "markdown",
   "metadata": {},
   "source": [
    "### getroutes request"
   ]
  },
  {
   "cell_type": "code",
   "execution_count": 10,
   "metadata": {},
   "outputs": [],
   "source": [
    "# Must specify &format=json, otherwise format will be html\n",
    "\n",
    "api_url = f'http://www.ctabustracker.com/bustime/api/v2/getroutes?key={API_KEY}&format=json'\n",
    "\n",
    "response = requests.get(api_url)\n",
    "routes = response.json()\n",
    "routes"
   ]
  },
  {
   "cell_type": "markdown",
   "metadata": {},
   "source": [
    "### getdirections request"
   ]
  },
  {
   "cell_type": "code",
   "execution_count": 17,
   "metadata": {},
   "outputs": [
    {
     "data": {
      "text/plain": [
       "{'bustime-response': {'directions': [{'dir': 'Eastbound'},\n",
       "   {'dir': 'Westbound'}]}}"
      ]
     },
     "execution_count": 17,
     "metadata": {},
     "output_type": "execute_result"
    }
   ],
   "source": [
    "# Must specify a single route: &rt=20 for Route 20, for example\n",
    "\n",
    "api_url = f'http://www.ctabustracker.com/bustime/api/v2/getdirections?key={API_KEY}&rt=20&format=json'\n",
    "\n",
    "response = requests.get(api_url)\n",
    "directions_rt_20 = response.json()\n",
    "directions_rt_20"
   ]
  },
  {
   "cell_type": "code",
   "execution_count": null,
   "metadata": {},
   "outputs": [],
   "source": []
  }
 ],
 "metadata": {
  "kernelspec": {
   "display_name": "env",
   "language": "python",
   "name": "python3"
  },
  "language_info": {
   "codemirror_mode": {
    "name": "ipython",
    "version": 3
   },
   "file_extension": ".py",
   "mimetype": "text/x-python",
   "name": "python",
   "nbconvert_exporter": "python",
   "pygments_lexer": "ipython3",
   "version": "3.10.8"
  },
  "orig_nbformat": 4,
  "vscode": {
   "interpreter": {
    "hash": "ce9a3a77462d5f7f2cfe780191315841c3273e19058b5128a3b7d5f71a1e065e"
   }
  }
 },
 "nbformat": 4,
 "nbformat_minor": 2
}
